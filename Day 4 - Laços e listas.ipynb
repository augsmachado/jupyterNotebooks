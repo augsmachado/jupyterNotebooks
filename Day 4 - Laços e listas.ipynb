{
 "cells": [
  {
   "cell_type": "markdown",
   "metadata": {},
   "source": [
    "## **Laços**"
   ]
  },
  {
   "cell_type": "code",
   "execution_count": 11,
   "metadata": {},
   "outputs": [
    {
     "name": "stdout",
     "output_type": "stream",
     "text": [
      "1\n",
      "2\n",
      "3\n",
      "4\n",
      "0 0 0\n",
      "1 1 1\n",
      "2 4 8\n",
      "3 9 27\n",
      "4 16 64\n",
      "5 25 125\n",
      "6 36 216\n",
      "7 49 343\n",
      "8 64 512\n",
      "9 81 729\n"
     ]
    }
   ],
   "source": [
    "# Uma instrução for executa o bloco de código especificado para cada elemento em uma lista.\n",
    "for x in [1, 2, 3, 4]:\n",
    "    print(x)\n",
    "\n",
    "for i  in range(10):\n",
    "   print(i, i*i, i*i*i)"
   ]
  },
  {
   "cell_type": "code",
   "execution_count": 12,
   "metadata": {},
   "outputs": [
    {
     "name": "stdout",
     "output_type": "stream",
     "text": [
      "a 1\n",
      "b 2\n",
      "c 3\n"
     ]
    }
   ],
   "source": [
    "# É possível interar duas listas de modo simultâneo\n",
    "names = [\"a\", \"b\", \"c\"]\n",
    "values = [1, 2, 3]\n",
    "for name, value in zip(names, values):\n",
    "    print(name, value)"
   ]
  },
  {
   "cell_type": "code",
   "execution_count": 13,
   "metadata": {},
   "outputs": [
    {
     "name": "stdout",
     "output_type": "stream",
     "text": [
      "15\n"
     ]
    }
   ],
   "source": [
    "# Desafio: criar uma função que soma os valores de uma lista homogênea\n",
    "def sum(a):\n",
    "    b = 0\n",
    "    for i in a:\n",
    "        b += i\n",
    "    return b\n",
    "\n",
    "a = [1, 2, 3, 4, 5]\n",
    "print(sum(a))"
   ]
  },
  {
   "cell_type": "code",
   "execution_count": 14,
   "metadata": {},
   "outputs": [
    {
     "name": "stdout",
     "output_type": "stream",
     "text": [
      "120\n"
     ]
    }
   ],
   "source": [
    "# Desafio: criar uma função que opera o produto de uma lista\n",
    "def product(a):\n",
    "    b = 1\n",
    "    for i in a:\n",
    "        b *= i\n",
    "    return b\n",
    "\n",
    "print(product(a))"
   ]
  },
  {
   "cell_type": "code",
   "execution_count": 15,
   "metadata": {},
   "outputs": [
    {
     "name": "stdout",
     "output_type": "stream",
     "text": [
      "120\n"
     ]
    }
   ],
   "source": [
    "a.append(1)\n",
    "print(product(a))"
   ]
  },
  {
   "cell_type": "code",
   "execution_count": 17,
   "metadata": {},
   "outputs": [
    {
     "name": "stdout",
     "output_type": "stream",
     "text": [
      "154\n"
     ]
    }
   ],
   "source": [
    "# Desafio: criar uma função que calcula a soma dos fatoriais de uma lista\n",
    "def fatorial(num):\n",
    "    fat = 1\n",
    "    while num > 1:\n",
    "        fat *= num\n",
    "        num = num -1\n",
    "    return fat\n",
    "\n",
    "def sum(a):\n",
    "    b = 0\n",
    "    for i in a:\n",
    "        b += fatorial(i)\n",
    "    return b\n",
    "\n",
    "print(sum(a))"
   ]
  },
  {
   "cell_type": "code",
   "execution_count": 42,
   "metadata": {},
   "outputs": [
    {
     "name": "stdout",
     "output_type": "stream",
     "text": [
      "[1, 2, 3, 4, 5, 1]\n",
      "[1, 5, 3, 4, 2, 1]\n"
     ]
    }
   ],
   "source": [
    "# Desafio: inverter uma lista\n",
    "def reverse(a):\n",
    "    l = int(len(a))\n",
    "    aux = 0\n",
    "    i = 0\n",
    "    \n",
    "    while i <= (l* 0.5):\n",
    "        aux = a[l - i - 1]\n",
    "        a[l - i -1] = a[i]\n",
    "        a[i] = aux\n",
    "        i = i+1\n",
    "    \n",
    "    return print(a)\n",
    "\n",
    "print(a)\n",
    "reverse(a)"
   ]
  },
  {
   "cell_type": "code",
   "execution_count": 57,
   "metadata": {},
   "outputs": [
    {
     "name": "stdout",
     "output_type": "stream",
     "text": [
      "[1, 6, 9, 13, 15, 16]\n"
     ]
    }
   ],
   "source": [
    "# Desafio: escreva uma função que faça a soma cumulativa de uma lista e retorna outra como resposta\n",
    "def cumulative_sum(a):\n",
    "    b = 0\n",
    "    l = []\n",
    "    for i in a:\n",
    "        b += i\n",
    "        l.append(b)\n",
    "    \n",
    "    return print(l)\n",
    "\n",
    "cumulative_sum(a)"
   ]
  }
 ],
 "metadata": {
  "kernelspec": {
   "display_name": "Python 3",
   "language": "python",
   "name": "python3"
  },
  "language_info": {
   "codemirror_mode": {
    "name": "ipython",
    "version": 3
   },
   "file_extension": ".py",
   "mimetype": "text/x-python",
   "name": "python",
   "nbconvert_exporter": "python",
   "pygments_lexer": "ipython3",
   "version": "3.8.5"
  }
 },
 "nbformat": 4,
 "nbformat_minor": 4
}
