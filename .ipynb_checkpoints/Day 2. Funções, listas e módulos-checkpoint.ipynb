{
 "cells": [
  {
   "cell_type": "markdown",
   "metadata": {},
   "source": [
    "# Funções"
   ]
  },
  {
   "cell_type": "code",
   "execution_count": 3,
   "metadata": {},
   "outputs": [
    {
     "name": "stdout",
     "output_type": "stream",
     "text": [
      "1 2 3 ... Hello universe!\n"
     ]
    }
   ],
   "source": [
    "# Python possui muitas funções já prontas, sendo a mais utilizada a função print\n",
    "print(1, 2, 3, '...', 'Hello universe!')"
   ]
  },
  {
   "cell_type": "code",
   "execution_count": 4,
   "metadata": {},
   "outputs": [
    {
     "data": {
      "text/plain": [
       "17"
      ]
     },
     "execution_count": 4,
     "metadata": {},
     "output_type": "execute_result"
    }
   ],
   "source": [
    "# A função len computa o tamanho de strings, listas e outras coleções de dados\n",
    "len(\"Welcome to Brazil\")"
   ]
  },
  {
   "cell_type": "code",
   "execution_count": 5,
   "metadata": {},
   "outputs": [
    {
     "data": {
      "text/plain": [
       "3"
      ]
     },
     "execution_count": 5,
     "metadata": {},
     "output_type": "execute_result"
    }
   ],
   "source": [
    "len(['a', 'b', 'c'])"
   ]
  },
  {
   "cell_type": "code",
   "execution_count": 6,
   "metadata": {},
   "outputs": [
    {
     "ename": "TypeError",
     "evalue": "unsupported operand type(s) for +: 'int' and 'str'",
     "output_type": "error",
     "traceback": [
      "\u001b[1;31m---------------------------------------------------------------------------\u001b[0m",
      "\u001b[1;31mTypeError\u001b[0m                                 Traceback (most recent call last)",
      "\u001b[1;32m<ipython-input-6-bf8ee4c5f082>\u001b[0m in \u001b[0;36m<module>\u001b[1;34m\u001b[0m\n\u001b[0;32m      1\u001b[0m \u001b[1;31m# Python não permite operações com tipos de dados incompatíveis\u001b[0m\u001b[1;33m\u001b[0m\u001b[1;33m\u001b[0m\u001b[1;33m\u001b[0m\u001b[0m\n\u001b[1;32m----> 2\u001b[1;33m \u001b[1;36m5\u001b[0m \u001b[1;33m+\u001b[0m \u001b[1;34m\"2\"\u001b[0m\u001b[1;33m\u001b[0m\u001b[1;33m\u001b[0m\u001b[0m\n\u001b[0m",
      "\u001b[1;31mTypeError\u001b[0m: unsupported operand type(s) for +: 'int' and 'str'"
     ]
    }
   ],
   "source": [
    "# Python não permite operações com tipos de dados incompatíveis\n",
    "5 + \"2\""
   ]
  },
  {
   "cell_type": "code",
   "execution_count": 9,
   "metadata": {},
   "outputs": [
    {
     "data": {
      "text/plain": [
       "7"
      ]
     },
     "execution_count": 9,
     "metadata": {},
     "output_type": "execute_result"
    }
   ],
   "source": [
    "# Caso desejemos operar com tipos incompatíveis é necessário realizar a conversão dele para o tipo desejado da operação\n",
    "5 + int(\"2\")"
   ]
  },
  {
   "cell_type": "code",
   "execution_count": 10,
   "metadata": {},
   "outputs": [
    {
     "data": {
      "text/plain": [
       "'52'"
      ]
     },
     "execution_count": 10,
     "metadata": {},
     "output_type": "execute_result"
    }
   ],
   "source": [
    "str(5) +\"2\""
   ]
  },
  {
   "cell_type": "code",
   "execution_count": 18,
   "metadata": {},
   "outputs": [],
   "source": [
    "# Em Python é possível contar quantos dígitos um número possui utilizando a função len\n",
    "x = 2 ** 10\n",
    "y = 2 ** 100\n",
    "z = 2 ** 1000"
   ]
  },
  {
   "cell_type": "code",
   "execution_count": 19,
   "metadata": {},
   "outputs": [
    {
     "data": {
      "text/plain": [
       "4"
      ]
     },
     "execution_count": 19,
     "metadata": {},
     "output_type": "execute_result"
    }
   ],
   "source": [
    "len(str(x))"
   ]
  },
  {
   "cell_type": "code",
   "execution_count": 20,
   "metadata": {},
   "outputs": [
    {
     "data": {
      "text/plain": [
       "31"
      ]
     },
     "execution_count": 20,
     "metadata": {},
     "output_type": "execute_result"
    }
   ],
   "source": [
    "len(str(y))"
   ]
  },
  {
   "cell_type": "code",
   "execution_count": 21,
   "metadata": {},
   "outputs": [
    {
     "data": {
      "text/plain": [
       "302"
      ]
     },
     "execution_count": 21,
     "metadata": {},
     "output_type": "execute_result"
    }
   ],
   "source": [
    "len(str(z))"
   ]
  },
  {
   "cell_type": "markdown",
   "metadata": {},
   "source": [
    "Em um código Python, a palavra de ordem é *identação*. Isso significa que dependendo da identação do código que ele poderá ser ou não executado."
   ]
  },
  {
   "cell_type": "code",
   "execution_count": 5,
   "metadata": {},
   "outputs": [
    {
     "data": {
      "text/plain": [
       "25"
      ]
     },
     "execution_count": 5,
     "metadata": {},
     "output_type": "execute_result"
    }
   ],
   "source": [
    "# Simplesmente significa que um nome pode estar associado a um pedaço do código e este nome definir um comportamento\n",
    "# isto é uma função\n",
    "# Lembre-se que o corpo de uma função deve ser identado\n",
    "\n",
    "def square(x):\n",
    "    return x * x\n",
    "\n",
    "square(5)"
   ]
  },
  {
   "cell_type": "code",
   "execution_count": 6,
   "metadata": {},
   "outputs": [
    {
     "data": {
      "text/plain": [
       "625"
      ]
     },
     "execution_count": 6,
     "metadata": {},
     "output_type": "execute_result"
    }
   ],
   "source": [
    "# As funções podem ser usadas em qualquer lugar\n",
    "square(square(5))"
   ]
  },
  {
   "cell_type": "code",
   "execution_count": 7,
   "metadata": {},
   "outputs": [
    {
     "data": {
      "text/plain": [
       "13"
      ]
     },
     "execution_count": 7,
     "metadata": {},
     "output_type": "execute_result"
    }
   ],
   "source": [
    "# Funções existentes podem ser usadas para criar novas funções\n",
    "def sumSquares(x, y):\n",
    "    return square(x) + square(y)\n",
    "\n",
    "sumSquares(2, 3)"
   ]
  },
  {
   "cell_type": "code",
   "execution_count": 8,
   "metadata": {},
   "outputs": [
    {
     "data": {
      "text/plain": [
       "16"
      ]
     },
     "execution_count": 8,
     "metadata": {},
     "output_type": "execute_result"
    }
   ],
   "source": [
    "# As funções são como outros valores, podem ser atribuídas, passadas como argumentos para outras funções, etc\n",
    "f = square\n",
    "f(4)"
   ]
  },
  {
   "cell_type": "code",
   "execution_count": 9,
   "metadata": {},
   "outputs": [
    {
     "data": {
      "text/plain": [
       "13"
      ]
     },
     "execution_count": 9,
     "metadata": {},
     "output_type": "execute_result"
    }
   ],
   "source": [
    "def fxy(f, x, y):\n",
    "    return f(x) + f(y)\n",
    "\n",
    "fxy(square, 2, 3)"
   ]
  },
  {
   "cell_type": "code",
   "execution_count": 10,
   "metadata": {},
   "outputs": [
    {
     "name": "stdout",
     "output_type": "stream",
     "text": [
      "6 0 0\n"
     ]
    }
   ],
   "source": [
    "# É importante entender, o alcance das variáveis usadas nas funções.\n",
    "# Variáveis atribuídas em uma função, incluindo os argumentos, são chamadas de variáveis locais para a função.\n",
    "# As variáveis definidas no nível superior são chamadas de variáveis globais.\n",
    "\n",
    "x = 0\n",
    "y = 0\n",
    "\n",
    "def incr(x):\n",
    "    y = x + 1\n",
    "    return y\n",
    "\n",
    "print(incr(5), x, y)"
   ]
  },
  {
   "cell_type": "code",
   "execution_count": 11,
   "metadata": {},
   "outputs": [],
   "source": [
    "# Quando o Python vê o uso de uma variável não definida localmente, ele tenta encontrar uma variável global com esse nome\n",
    "numcalls = 0\n",
    "def square(x):\n",
    "    global numcalls\n",
    "    numcalls = numcalls + 1\n",
    "   \n",
    "    return x * x"
   ]
  },
  {
   "cell_type": "code",
   "execution_count": 12,
   "metadata": {},
   "outputs": [
    {
     "data": {
      "text/plain": [
       "35"
      ]
     },
     "execution_count": 12,
     "metadata": {},
     "output_type": "execute_result"
    }
   ],
   "source": [
    "# Existe outra maneira de criar funções, usando o operador lambda\n",
    "cube = lambda x: x ** 3\n",
    "fxy(cube, 2, 3)"
   ]
  },
  {
   "cell_type": "code",
   "execution_count": 13,
   "metadata": {},
   "outputs": [
    {
     "data": {
      "text/plain": [
       "35"
      ]
     },
     "execution_count": 13,
     "metadata": {},
     "output_type": "execute_result"
    }
   ],
   "source": [
    "# Observe que, ao contrário da definição da função, lambda não precisa de um retorno. O corpo do lambda é\n",
    "# uma expressão única.\n",
    "# O operador lambda torna-se útil ao escrever pequenas funções para serem passadas como argumentos etc.\n",
    "fxy(lambda x: x ** 3, 2, 3)"
   ]
  },
  {
   "cell_type": "code",
   "execution_count": 14,
   "metadata": {},
   "outputs": [
    {
     "data": {
      "text/plain": [
       "13"
      ]
     },
     "execution_count": 14,
     "metadata": {},
     "output_type": "execute_result"
    }
   ],
   "source": [
    "y = 2\n",
    "fxy(lambda x: x ** y, 2, 3)"
   ]
  },
  {
   "cell_type": "markdown",
   "metadata": {},
   "source": [
    "Python oferece vários operadores para comparar valores.\n",
    "\n",
    "Aqui está a lista de operadores condicionais disponíveis.\n",
    "+ == igual a\n",
    "+ ! = diferente de\n",
    "+ < menor que\n",
    "+ *>* maior que\n",
    "+ <= menor ou igual a\n",
    "+ *>=* maior ou igual a\n",
    "\n",
    "Existem alguns operadores lógicos para combinar valores booleanos.\n",
    "+ a **and** b são verdadeiros apenas se a e b forem verdadeiros.\n",
    "+ a **or** b é verdadeiro se a ou b for verdadeiro.\n",
    "+ **not a** é True somente se a for False."
   ]
  },
  {
   "cell_type": "code",
   "execution_count": 16,
   "metadata": {},
   "outputs": [],
   "source": [
    "# A instrução if é usada para executar um trecho de código apenas quando uma expressão booleana retorna true ou false\n",
    "def ePar(x):\n",
    "    if x % 2 == 0:\n",
    "        print('par')\n",
    "    else:\n",
    "        print('ímpar')"
   ]
  },
  {
   "cell_type": "code",
   "execution_count": 17,
   "metadata": {},
   "outputs": [
    {
     "name": "stdout",
     "output_type": "stream",
     "text": [
      "par\n"
     ]
    }
   ],
   "source": [
    "ePar(42)"
   ]
  },
  {
   "cell_type": "code",
   "execution_count": 18,
   "metadata": {},
   "outputs": [
    {
     "name": "stdout",
     "output_type": "stream",
     "text": [
      "ímpar\n"
     ]
    }
   ],
   "source": [
    "ePar(3)"
   ]
  },
  {
   "cell_type": "markdown",
   "metadata": {},
   "source": [
    "# Listas"
   ]
  },
  {
   "cell_type": "code",
   "execution_count": 24,
   "metadata": {},
   "outputs": [],
   "source": [
    "# A lista pode ser de números\n",
    "x = [1, 2, 3]\n",
    "\n",
    "# A lista pode ser de strings\n",
    "x =['boo', 'foo', 'too']\n",
    "\n",
    "# A lista pode ser de dados heterogeneos\n",
    "x = [1, 2, 4.1, 'boo', ['foo', 'too', [None]]]"
   ]
  },
  {
   "cell_type": "code",
   "execution_count": 25,
   "metadata": {},
   "outputs": [
    {
     "data": {
      "text/plain": [
       "5"
      ]
     },
     "execution_count": 25,
     "metadata": {},
     "output_type": "execute_result"
    }
   ],
   "source": [
    "# Se desejar saber o tamanho de uma lista, já sabe como fazer\n",
    "# use len\n",
    "len(x)"
   ]
  },
  {
   "cell_type": "code",
   "execution_count": 26,
   "metadata": {},
   "outputs": [
    {
     "data": {
      "text/plain": [
       "9"
      ]
     },
     "execution_count": 26,
     "metadata": {},
     "output_type": "execute_result"
    }
   ],
   "source": [
    "# Mas a lista x não tem mais de 5 elementos? Sim e não.\n",
    "# A lista X possui 5 elementos, dos quais um deles é uma lista de strings e contém uma lista vazia\n",
    "# Para contar todos os elementos precisamos ser mais específicos\n",
    "len(x) + len(x[4]) + len(x[4][2])"
   ]
  },
  {
   "cell_type": "markdown",
   "metadata": {},
   "source": [
    "O resultado não está errado? Não.\n",
    "Lembre que a lista x é um conjunto de listas e elementos, a lista x possui 5 elementos, sendo que um deles é uma lista\n",
    "Por mais que esteja vendo somente 7 elementos distintos, o conjunto de elementos, ao qual a lista x faz parte, possui 9"
   ]
  },
  {
   "cell_type": "markdown",
   "metadata": {},
   "source": [
    "# Módulos"
   ]
  },
  {
   "cell_type": "markdown",
   "metadata": {},
   "source": [
    "Módulos são bibliotecas em Python. Python vem com muitos módulos de biblioteca padrão.\n",
    "\n",
    "Um módulo pode ser importado usando a instrução **import**."
   ]
  },
  {
   "cell_type": "code",
   "execution_count": 30,
   "metadata": {},
   "outputs": [
    {
     "data": {
      "text/plain": [
       "'Wed Nov 25 23:32:09 2020'"
      ]
     },
     "execution_count": 30,
     "metadata": {},
     "output_type": "execute_result"
    }
   ],
   "source": [
    "import time\n",
    "time.asctime()"
   ]
  },
  {
   "cell_type": "code",
   "execution_count": null,
   "metadata": {},
   "outputs": [],
   "source": []
  }
 ],
 "metadata": {
  "kernelspec": {
   "display_name": "Python 3",
   "language": "python",
   "name": "python3"
  },
  "language_info": {
   "codemirror_mode": {
    "name": "ipython",
    "version": 3
   },
   "file_extension": ".py",
   "mimetype": "text/x-python",
   "name": "python",
   "nbconvert_exporter": "python",
   "pygments_lexer": "ipython3",
   "version": "3.8.3"
  }
 },
 "nbformat": 4,
 "nbformat_minor": 4
}
